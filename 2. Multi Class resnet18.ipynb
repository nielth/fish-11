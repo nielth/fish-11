{
 "cells": [
  {
   "cell_type": "code",
   "execution_count": 1,
   "metadata": {},
   "outputs": [],
   "source": [
    "import os\n",
    "import torch\n",
    "import torch.nn as nn\n",
    "import torch.nn.functional as F\n",
    "import torch.optim as optim\n",
    "from torch.utils.data import Dataset, DataLoader, random_split\n",
    "from torchvision import models, transforms\n",
    "from PIL import Image\n",
    "from tqdm import tqdm\n",
    "import wandb"
   ]
  },
  {
   "cell_type": "code",
   "execution_count": 14,
   "metadata": {},
   "outputs": [],
   "source": [
    "classes = {\n",
    "    0: 'Dascyllus reticulatuscheck',\n",
    "    1: 'Plectroglyphidodon dickiicheck',\n",
    "    2: 'Chromis chrysuracheck',\n",
    "    3: 'Amphiprion clarkiicheck',\n",
    "    4: 'Chaetodon lunulatuscheck',\n",
    "    5: 'Chaetodon trifascialischeck',\n",
    "    6: 'Myripristis kunteecheck',\n",
    "    7: 'Acanthurus nigrofuscuscheck',\n",
    "    8: 'Hemigymnus fasciatuscheck',\n",
    "    9: 'Neoniphon sammaracheck',\n",
    "    10: 'Abudefduf vaigiensischeck',\n",
    "    11: 'Canthigaster valentinicheck',\n",
    "    12: 'Pomacentrus moluccensischeck',\n",
    "    13: 'Zebrasoma scopascheck',\n",
    "    14: 'Hemigymnus melapteruscheck',\n",
    "    15: 'Lutjanus fulvuscheck',\n",
    "    16: 'Scolopsis bilineatacheck',\n",
    "    17: 'Scaridaecheck',\n",
    "    18: 'Pempheris vanicolensischeck',\n",
    "    19: 'Zanclus cornutuscheck',\n",
    "    20: 'Neoglyphidodon nigrorischeck',\n",
    "    21: 'Balistapus undulatuscheck',\n",
    "    22: 'Siganus fuscescenscheck',\n",
    "}"
   ]
  },
  {
   "cell_type": "code",
   "execution_count": 15,
   "metadata": {},
   "outputs": [],
   "source": [
    "# Custom Dataset Class for Fish Images\n",
    "class FishClassificationDataset(Dataset):\n",
    "    def __init__(self, image_folder, transform=None, full_dataset=False):\n",
    "        self.image_folder = image_folder\n",
    "        self.transform = transform\n",
    "        self.image_paths = []\n",
    "        self.labels = []\n",
    "        self.tracking_ids = set()  # To keep track of unique tracking IDs\n",
    "\n",
    "        # Populate image paths and labels\n",
    "        for cluster_id in os.listdir(image_folder):\n",
    "            cluster_path = os.path.join(image_folder, cluster_id)\n",
    "            if os.path.isdir(cluster_path):\n",
    "                # Extract the numeric part from the cluster_id (e.g., 'fish_14' -> 14)\n",
    "                numeric_label = int(cluster_id.split('_')[1]) - 1  # Subtract 1 to start labels from 0 to avoid problems with model loss function\n",
    "                for img_name in os.listdir(cluster_path):\n",
    "                    img_path = os.path.join(cluster_path, img_name)\n",
    "                    # Extract tracking ID from the image filename\n",
    "                    tracking_id = img_name.split('_')[1]  # Adjust based on your filename format\n",
    "\n",
    "                    # if tracking_id not in self.tracking_ids or int(tracking_id) >= 10:\n",
    "                    if tracking_id not in self.tracking_ids or full_dataset:\n",
    "                        self.tracking_ids.add(tracking_id)\n",
    "                        self.image_paths.append(img_path)\n",
    "                        self.labels.append(numeric_label)\n",
    "\n",
    "    def __len__(self):\n",
    "        return len(self.image_paths)\n",
    "\n",
    "    def __getitem__(self, idx):\n",
    "        img_path = self.image_paths[idx]\n",
    "        label = self.labels[idx]\n",
    "        image = Image.open(img_path).convert('RGB')\n",
    "\n",
    "        if self.transform:\n",
    "            image = self.transform(image)\n",
    "\n",
    "        return image, label\n",
    "\n",
    "\n",
    "# Model Architecture for Multi-Class Classification\n",
    "class FishClassifier(nn.Module):\n",
    "    def __init__(self, num_classes):\n",
    "        super(FishClassifier, self).__init__()\n",
    "        self.backbone = models.resnet18(weights=\"ResNet18_Weights.DEFAULT\")\n",
    "        self.backbone.fc = nn.Linear(self.backbone.fc.in_features, num_classes)\n",
    "\n",
    "    def forward(self, x):\n",
    "        return self.backbone(x)\n",
    "\n",
    "# Define Data Transformations\n",
    "transform = transforms.Compose([\n",
    "    transforms.Resize((224, 224)),\n",
    "    transforms.ToTensor(),\n",
    "    transforms.Normalize([0.485, 0.456, 0.406], [0.229, 0.224, 0.225])\n",
    "])\n",
    "\n",
    "# Load the Dataset\n",
    "image_folder = 'fish_image'  # Replace with your dataset path\n",
    "fish_dataset = FishClassificationDataset(image_folder=image_folder, transform=transform)\n",
    "\n",
    "# Split the dataset into training and testing sets\n",
    "train_size = int(0.8 * len(fish_dataset))\n",
    "test_size = len(fish_dataset) - train_size\n",
    "train_dataset, test_dataset = random_split(fish_dataset, [train_size, test_size])\n",
    "\n",
    "# Create Data Loaders\n",
    "train_loader = DataLoader(train_dataset, batch_size=32, shuffle=True)\n",
    "test_loader = DataLoader(test_dataset, batch_size=32, shuffle=False)"
   ]
  },
  {
   "cell_type": "code",
   "execution_count": null,
   "metadata": {},
   "outputs": [],
   "source": [
    "# Initialize the Model, Loss Function, and Optimizer\n",
    "num_classes = len(set(fish_dataset.labels))\n",
    "device = torch.device('cuda' if torch.cuda.is_available() else 'cpu')\n",
    "model = FishClassifier(num_classes=num_classes).to(device)\n",
    "# criterion = nn.CrossEntropyLoss()\n",
    "optimizer = optim.Adam(model.parameters(), lr=1e-4)"
   ]
  },
  {
   "cell_type": "code",
   "execution_count": 17,
   "metadata": {},
   "outputs": [],
   "source": [
    "class FocalLoss(nn.Module):\n",
    "    def __init__(self, alpha=1, gamma=2):\n",
    "        super(FocalLoss, self).__init__()\n",
    "        self.alpha = alpha\n",
    "        self.gamma = gamma\n",
    "\n",
    "    def forward(self, inputs, targets):\n",
    "        BCE_loss = nn.CrossEntropyLoss()(inputs, targets)\n",
    "        pt = torch.exp(-BCE_loss)  # Probability of the true class\n",
    "        F_loss = self.alpha * (1 - pt) ** self.gamma * BCE_loss\n",
    "        return F_loss\n",
    "\n",
    "# Use FocalLoss as the criterion\n",
    "# criterion = FocalLoss()"
   ]
  },
  {
   "cell_type": "code",
   "execution_count": 18,
   "metadata": {},
   "outputs": [],
   "source": [
    "import torch\n",
    "from collections import Counter\n",
    "\n",
    "# Calculate class frequencies\n",
    "class_counts = Counter(fish_dataset.labels)\n",
    "total_samples = len(fish_dataset)\n",
    "class_weights = {label: total_samples / count for label, count in class_counts.items()}\n",
    "\n",
    "# Convert to a tensor and move to the device\n",
    "weights = torch.tensor([class_weights[label] for label in sorted(class_counts.keys())], dtype=torch.float).to(device)\n",
    "\n",
    "# Use the weights in CrossEntropyLoss\n",
    "criterion = nn.CrossEntropyLoss(weight=weights)"
   ]
  },
  {
   "cell_type": "code",
   "execution_count": 19,
   "metadata": {},
   "outputs": [
    {
     "data": {
      "text/html": [
       "Tracking run with wandb version 0.18.6"
      ],
      "text/plain": [
       "<IPython.core.display.HTML object>"
      ]
     },
     "metadata": {},
     "output_type": "display_data"
    },
    {
     "data": {
      "text/html": [
       "Run data is saved locally in <code>/home/thomasnie/fish/wandb/run-20241111_194513-6vip48un</code>"
      ],
      "text/plain": [
       "<IPython.core.display.HTML object>"
      ]
     },
     "metadata": {},
     "output_type": "display_data"
    },
    {
     "data": {
      "text/html": [
       "Syncing run <strong><a href='https://wandb.ai/junta/fish4/runs/6vip48un' target=\"_blank\">clear-firebrand-68</a></strong> to <a href='https://wandb.ai/junta/fish4' target=\"_blank\">Weights & Biases</a> (<a href='https://wandb.me/developer-guide' target=\"_blank\">docs</a>)<br/>"
      ],
      "text/plain": [
       "<IPython.core.display.HTML object>"
      ]
     },
     "metadata": {},
     "output_type": "display_data"
    },
    {
     "data": {
      "text/html": [
       " View project at <a href='https://wandb.ai/junta/fish4' target=\"_blank\">https://wandb.ai/junta/fish4</a>"
      ],
      "text/plain": [
       "<IPython.core.display.HTML object>"
      ]
     },
     "metadata": {},
     "output_type": "display_data"
    },
    {
     "data": {
      "text/html": [
       " View run at <a href='https://wandb.ai/junta/fish4/runs/6vip48un' target=\"_blank\">https://wandb.ai/junta/fish4/runs/6vip48un</a>"
      ],
      "text/plain": [
       "<IPython.core.display.HTML object>"
      ]
     },
     "metadata": {},
     "output_type": "display_data"
    },
    {
     "data": {
      "text/html": [
       "<button onClick=\"this.nextSibling.style.display='block';this.style.display='none';\">Display W&B run</button><iframe src='https://wandb.ai/junta/fish4/runs/6vip48un?jupyter=true' style='border:none;width:100%;height:420px;display:none;'></iframe>"
      ],
      "text/plain": [
       "<wandb.sdk.wandb_run.Run at 0x7041109ca5d0>"
      ]
     },
     "execution_count": 19,
     "metadata": {},
     "output_type": "execute_result"
    }
   ],
   "source": [
    "wandb.init(project=\"fish4\", entity=\"junta\")"
   ]
  },
  {
   "cell_type": "code",
   "execution_count": 20,
   "metadata": {},
   "outputs": [
    {
     "name": "stderr",
     "output_type": "stream",
     "text": [
      "Epoch 1/20: 100%|██████████| 219/219 [00:26<00:00,  8.30batch/s]\n",
      "Validation: 100%|██████████| 55/55 [00:03<00:00, 15.71it/s]\n"
     ]
    },
    {
     "name": "stdout",
     "output_type": "stream",
     "text": [
      "Training Loss: 1.4460 | Validation Loss: 0.5143 | Test Accuracy: 89.97%\n"
     ]
    },
    {
     "name": "stderr",
     "output_type": "stream",
     "text": [
      "Epoch 2/20: 100%|██████████| 219/219 [00:27<00:00,  8.09batch/s]\n",
      "Validation: 100%|██████████| 55/55 [00:03<00:00, 15.63it/s]\n"
     ]
    },
    {
     "name": "stdout",
     "output_type": "stream",
     "text": [
      "Training Loss: 0.2425 | Validation Loss: 0.4329 | Test Accuracy: 92.38%\n"
     ]
    },
    {
     "name": "stderr",
     "output_type": "stream",
     "text": [
      "Epoch 3/20: 100%|██████████| 219/219 [00:27<00:00,  8.05batch/s]\n",
      "Validation: 100%|██████████| 55/55 [00:03<00:00, 15.35it/s]\n"
     ]
    },
    {
     "name": "stdout",
     "output_type": "stream",
     "text": [
      "Training Loss: 0.0751 | Validation Loss: 0.1644 | Test Accuracy: 97.31%\n"
     ]
    },
    {
     "name": "stderr",
     "output_type": "stream",
     "text": [
      "Epoch 4/20: 100%|██████████| 219/219 [00:27<00:00,  7.90batch/s]\n",
      "Validation: 100%|██████████| 55/55 [00:03<00:00, 13.90it/s]\n"
     ]
    },
    {
     "name": "stdout",
     "output_type": "stream",
     "text": [
      "Training Loss: 0.0325 | Validation Loss: 0.1464 | Test Accuracy: 98.28%\n"
     ]
    },
    {
     "name": "stderr",
     "output_type": "stream",
     "text": [
      "Epoch 5/20: 100%|██████████| 219/219 [00:28<00:00,  7.73batch/s]\n",
      "Validation: 100%|██████████| 55/55 [00:06<00:00,  8.23it/s]\n"
     ]
    },
    {
     "name": "stdout",
     "output_type": "stream",
     "text": [
      "Training Loss: 0.0222 | Validation Loss: 0.1660 | Test Accuracy: 97.94%\n"
     ]
    },
    {
     "name": "stderr",
     "output_type": "stream",
     "text": [
      "Epoch 6/20: 100%|██████████| 219/219 [00:27<00:00,  8.09batch/s]\n",
      "Validation: 100%|██████████| 55/55 [00:03<00:00, 15.15it/s]\n"
     ]
    },
    {
     "name": "stdout",
     "output_type": "stream",
     "text": [
      "Training Loss: 0.0127 | Validation Loss: 0.1627 | Test Accuracy: 98.57%\n"
     ]
    },
    {
     "name": "stderr",
     "output_type": "stream",
     "text": [
      "Epoch 7/20: 100%|██████████| 219/219 [00:28<00:00,  7.77batch/s]\n",
      "Validation: 100%|██████████| 55/55 [00:03<00:00, 15.12it/s]\n"
     ]
    },
    {
     "name": "stdout",
     "output_type": "stream",
     "text": [
      "Training Loss: 0.0080 | Validation Loss: 0.1641 | Test Accuracy: 98.11%\n"
     ]
    },
    {
     "name": "stderr",
     "output_type": "stream",
     "text": [
      "Epoch 8/20: 100%|██████████| 219/219 [00:27<00:00,  7.90batch/s]\n",
      "Validation: 100%|██████████| 55/55 [00:03<00:00, 15.40it/s]\n"
     ]
    },
    {
     "name": "stdout",
     "output_type": "stream",
     "text": [
      "Training Loss: 0.0129 | Validation Loss: 0.1623 | Test Accuracy: 98.57%\n"
     ]
    },
    {
     "name": "stderr",
     "output_type": "stream",
     "text": [
      "Epoch 9/20: 100%|██████████| 219/219 [00:28<00:00,  7.79batch/s]\n",
      "Validation: 100%|██████████| 55/55 [00:03<00:00, 15.42it/s]\n"
     ]
    },
    {
     "name": "stdout",
     "output_type": "stream",
     "text": [
      "Training Loss: 0.0300 | Validation Loss: 0.1213 | Test Accuracy: 97.42%\n"
     ]
    },
    {
     "name": "stderr",
     "output_type": "stream",
     "text": [
      "Epoch 10/20: 100%|██████████| 219/219 [00:27<00:00,  7.97batch/s]\n",
      "Validation: 100%|██████████| 55/55 [00:03<00:00, 15.39it/s]\n"
     ]
    },
    {
     "name": "stdout",
     "output_type": "stream",
     "text": [
      "Training Loss: 0.0071 | Validation Loss: 0.0977 | Test Accuracy: 97.82%\n"
     ]
    },
    {
     "name": "stderr",
     "output_type": "stream",
     "text": [
      "Epoch 11/20: 100%|██████████| 219/219 [00:27<00:00,  7.83batch/s]\n",
      "Validation: 100%|██████████| 55/55 [00:03<00:00, 15.43it/s]\n"
     ]
    },
    {
     "name": "stdout",
     "output_type": "stream",
     "text": [
      "Training Loss: 0.0067 | Validation Loss: 0.1025 | Test Accuracy: 98.80%\n"
     ]
    },
    {
     "name": "stderr",
     "output_type": "stream",
     "text": [
      "Epoch 12/20: 100%|██████████| 219/219 [00:27<00:00,  8.08batch/s]\n",
      "Validation: 100%|██████████| 55/55 [00:03<00:00, 14.90it/s]\n"
     ]
    },
    {
     "name": "stdout",
     "output_type": "stream",
     "text": [
      "Training Loss: 0.2743 | Validation Loss: 0.4776 | Test Accuracy: 86.99%\n"
     ]
    },
    {
     "name": "stderr",
     "output_type": "stream",
     "text": [
      "Epoch 13/20: 100%|██████████| 219/219 [00:28<00:00,  7.71batch/s]\n",
      "Validation: 100%|██████████| 55/55 [00:03<00:00, 14.54it/s]\n"
     ]
    },
    {
     "name": "stdout",
     "output_type": "stream",
     "text": [
      "Training Loss: 0.4155 | Validation Loss: 0.4365 | Test Accuracy: 86.13%\n"
     ]
    },
    {
     "name": "stderr",
     "output_type": "stream",
     "text": [
      "Epoch 14/20: 100%|██████████| 219/219 [00:27<00:00,  8.10batch/s]\n",
      "Validation: 100%|██████████| 55/55 [00:03<00:00, 15.37it/s]\n"
     ]
    },
    {
     "name": "stdout",
     "output_type": "stream",
     "text": [
      "Training Loss: 0.0672 | Validation Loss: 0.1837 | Test Accuracy: 97.48%\n"
     ]
    },
    {
     "name": "stderr",
     "output_type": "stream",
     "text": [
      "Epoch 15/20: 100%|██████████| 219/219 [00:27<00:00,  7.98batch/s]\n",
      "Validation: 100%|██████████| 55/55 [00:03<00:00, 14.97it/s]\n"
     ]
    },
    {
     "name": "stdout",
     "output_type": "stream",
     "text": [
      "Training Loss: 0.0132 | Validation Loss: 0.1927 | Test Accuracy: 98.57%\n"
     ]
    },
    {
     "name": "stderr",
     "output_type": "stream",
     "text": [
      "Epoch 16/20: 100%|██████████| 219/219 [00:27<00:00,  8.04batch/s]\n",
      "Validation: 100%|██████████| 55/55 [00:03<00:00, 14.89it/s]\n"
     ]
    },
    {
     "name": "stdout",
     "output_type": "stream",
     "text": [
      "Training Loss: 0.0105 | Validation Loss: 0.1856 | Test Accuracy: 98.22%\n"
     ]
    },
    {
     "name": "stderr",
     "output_type": "stream",
     "text": [
      "Epoch 17/20: 100%|██████████| 219/219 [00:28<00:00,  7.77batch/s]\n",
      "Validation: 100%|██████████| 55/55 [00:03<00:00, 15.13it/s]\n"
     ]
    },
    {
     "name": "stdout",
     "output_type": "stream",
     "text": [
      "Training Loss: 0.0054 | Validation Loss: 0.1992 | Test Accuracy: 98.28%\n"
     ]
    },
    {
     "name": "stderr",
     "output_type": "stream",
     "text": [
      "Epoch 18/20: 100%|██████████| 219/219 [00:27<00:00,  8.04batch/s]\n",
      "Validation: 100%|██████████| 55/55 [00:03<00:00, 14.63it/s]\n"
     ]
    },
    {
     "name": "stdout",
     "output_type": "stream",
     "text": [
      "Training Loss: 0.0058 | Validation Loss: 0.2210 | Test Accuracy: 98.40%\n"
     ]
    },
    {
     "name": "stderr",
     "output_type": "stream",
     "text": [
      "Epoch 19/20: 100%|██████████| 219/219 [00:27<00:00,  7.89batch/s]\n",
      "Validation: 100%|██████████| 55/55 [00:03<00:00, 14.33it/s]\n"
     ]
    },
    {
     "name": "stdout",
     "output_type": "stream",
     "text": [
      "Training Loss: 0.0029 | Validation Loss: 0.2051 | Test Accuracy: 98.51%\n"
     ]
    },
    {
     "name": "stderr",
     "output_type": "stream",
     "text": [
      "Epoch 20/20: 100%|██████████| 219/219 [00:28<00:00,  7.59batch/s]\n",
      "Validation: 100%|██████████| 55/55 [00:03<00:00, 15.16it/s]"
     ]
    },
    {
     "name": "stdout",
     "output_type": "stream",
     "text": [
      "Training Loss: 0.0093 | Validation Loss: 0.2115 | Test Accuracy: 98.51%\n"
     ]
    },
    {
     "name": "stderr",
     "output_type": "stream",
     "text": [
      "\n"
     ]
    }
   ],
   "source": [
    "num_epochs = 20\n",
    "for epoch in range(num_epochs):\n",
    "    model.train()\n",
    "    running_loss = 0.0\n",
    "\n",
    "    for images, labels in tqdm(train_loader, desc=f\"Epoch {epoch+1}/{num_epochs}\", unit=\"batch\"):\n",
    "        images, labels = images.to(device), labels.to(device).long()\n",
    "        optimizer.zero_grad()\n",
    "        outputs = model(images)\n",
    "        loss = criterion(outputs, labels)\n",
    "        loss.backward()\n",
    "        optimizer.step()\n",
    "        running_loss += loss.item()\n",
    "\n",
    "    # Validation Loop\n",
    "    model.eval()\n",
    "    val_loss = 0.0\n",
    "    correct = 0\n",
    "    total = 0\n",
    "    all_outputs = []\n",
    "    all_labels = []\n",
    "\n",
    "    with torch.inference_mode():\n",
    "        for images, labels in tqdm(test_loader, desc=\"Validation\"):\n",
    "            images, labels = images.to(device), labels.to(device).long()\n",
    "            outputs = model(images)\n",
    "            loss = criterion(outputs, labels)\n",
    "            val_loss += loss.item()\n",
    "\n",
    "            _, predicted = torch.max(outputs.data, 1)\n",
    "            total += labels.size(0)\n",
    "            correct += (predicted == labels).sum().item()\n",
    "\n",
    "            all_outputs.extend(outputs.cpu().numpy())\n",
    "            all_labels.extend(labels.cpu().numpy())\n",
    "\n",
    "    # Calculate Metrics\n",
    "    test_accuracy = 100 * correct / total\n",
    "    print(f\"Training Loss: {running_loss/len(train_loader):.4f} | Validation Loss: {val_loss/len(test_loader):.4f} | Test Accuracy: {test_accuracy:.2f}%\")\n",
    "\n",
    "    # Log metrics to wandb\n",
    "    wandb.log({\n",
    "        \"training_loss\": running_loss / len(train_loader),\n",
    "        \"validation_loss\": val_loss / len(test_loader),\n",
    "        \"test_accuracy\": test_accuracy\n",
    "    })"
   ]
  },
  {
   "cell_type": "code",
   "execution_count": 21,
   "metadata": {},
   "outputs": [],
   "source": [
    "torch.save(model.state_dict(), \"fish_classifier.pth\")"
   ]
  },
  {
   "cell_type": "code",
   "execution_count": 22,
   "metadata": {},
   "outputs": [
    {
     "data": {
      "text/html": [
       "\n",
       "    <style>\n",
       "        .wandb-row {\n",
       "            display: flex;\n",
       "            flex-direction: row;\n",
       "            flex-wrap: wrap;\n",
       "            justify-content: flex-start;\n",
       "            width: 100%;\n",
       "        }\n",
       "        .wandb-col {\n",
       "            display: flex;\n",
       "            flex-direction: column;\n",
       "            flex-basis: 100%;\n",
       "            flex: 1;\n",
       "            padding: 10px;\n",
       "        }\n",
       "    </style>\n",
       "<div class=\"wandb-row\"><div class=\"wandb-col\"><h3>Run history:</h3><br/><table class=\"wandb\"><tr><td>test_accuracy</td><td>▃▄▇█████▇▇█▁▁▇██████</td></tr><tr><td>training_loss</td><td>█▂▁▁▁▁▁▁▁▁▁▂▃▁▁▁▁▁▁▁</td></tr><tr><td>validation_loss</td><td>█▇▂▂▂▂▂▂▁▁▁▇▇▂▃▂▃▃▃▃</td></tr></table><br/></div><div class=\"wandb-col\"><h3>Run summary:</h3><br/><table class=\"wandb\"><tr><td>test_accuracy</td><td>98.51003</td></tr><tr><td>training_loss</td><td>0.00932</td></tr><tr><td>validation_loss</td><td>0.21154</td></tr></table><br/></div></div>"
      ],
      "text/plain": [
       "<IPython.core.display.HTML object>"
      ]
     },
     "metadata": {},
     "output_type": "display_data"
    },
    {
     "data": {
      "text/html": [
       " View run <strong style=\"color:#cdcd00\">clear-firebrand-68</strong> at: <a href='https://wandb.ai/junta/fish4/runs/6vip48un' target=\"_blank\">https://wandb.ai/junta/fish4/runs/6vip48un</a><br/> View project at: <a href='https://wandb.ai/junta/fish4' target=\"_blank\">https://wandb.ai/junta/fish4</a><br/>Synced 5 W&B file(s), 0 media file(s), 0 artifact file(s) and 0 other file(s)"
      ],
      "text/plain": [
       "<IPython.core.display.HTML object>"
      ]
     },
     "metadata": {},
     "output_type": "display_data"
    },
    {
     "data": {
      "text/html": [
       "Find logs at: <code>./wandb/run-20241111_194513-6vip48un/logs</code>"
      ],
      "text/plain": [
       "<IPython.core.display.HTML object>"
      ]
     },
     "metadata": {},
     "output_type": "display_data"
    }
   ],
   "source": [
    "wandb.finish()"
   ]
  },
  {
   "cell_type": "code",
   "execution_count": 1,
   "metadata": {},
   "outputs": [
    {
     "ename": "NameError",
     "evalue": "name 'model' is not defined",
     "output_type": "error",
     "traceback": [
      "\u001b[0;31m---------------------------------------------------------------------------\u001b[0m",
      "\u001b[0;31mNameError\u001b[0m                                 Traceback (most recent call last)",
      "Cell \u001b[0;32mIn[1], line 12\u001b[0m\n\u001b[1;32m      9\u001b[0m     \u001b[38;5;28;01mreturn\u001b[39;00m similarity\n\u001b[1;32m     11\u001b[0m \u001b[38;5;66;03m# Example of Calculating Similarity Scores and Showing Images\u001b[39;00m\n\u001b[0;32m---> 12\u001b[0m \u001b[43mmodel\u001b[49m\u001b[38;5;241m.\u001b[39meval()\n\u001b[1;32m     13\u001b[0m \u001b[38;5;28;01mwith\u001b[39;00m torch\u001b[38;5;241m.\u001b[39minference_mode():\n\u001b[1;32m     14\u001b[0m     \u001b[38;5;66;03m# Get two images and their labels from the dataset\u001b[39;00m\n\u001b[1;32m     15\u001b[0m     img1, label1 \u001b[38;5;241m=\u001b[39m fish_dataset[\u001b[38;5;241m0\u001b[39m]  \u001b[38;5;66;03m# Get the first image from the dataset\u001b[39;00m\n",
      "\u001b[0;31mNameError\u001b[0m: name 'model' is not defined"
     ]
    }
   ],
   "source": [
    "import matplotlib.pyplot as plt\n",
    "import random\n",
    "\n",
    "# Function to Compute Similarity Scores\n",
    "def compute_similarity_scores(outputs1, outputs2):\n",
    "    probs1 = F.softmax(torch.tensor(outputs1), dim=1)\n",
    "    probs2 = F.softmax(torch.tensor(outputs2), dim=1)\n",
    "    similarity = F.cosine_similarity(probs1, probs2, dim=1)\n",
    "    return similarity\n",
    "\n",
    "# Example of Calculating Similarity Scores and Showing Images\n",
    "model.eval()\n",
    "with torch.inference_mode():\n",
    "    # Get two images and their labels from the dataset\n",
    "    img1, label1 = fish_dataset[0]  # Get the first image from the dataset\n",
    "    img2, label2 = fish_dataset[random.randint(0, len(fish_dataset))]  # Get the second image from the dataset\n",
    "\n",
    "    # Move images to the device and add batch dimension\n",
    "    img1, img2 = img1.to(device).unsqueeze(0), img2.to(device).unsqueeze(0)\n",
    "\n",
    "    # Pass the images through the model to get outputs\n",
    "    outputs1 = model(img1)\n",
    "    outputs2 = model(img2)\n",
    "\n",
    "    # Compute similarity score\n",
    "    similarity_score = compute_similarity_scores(outputs1, outputs2)\n",
    "    print(f\"Similarity Score: {similarity_score.item()}\")\n",
    "\n",
    "    # Move images back to CPU for visualization\n",
    "    img1_np = img1.squeeze(0).cpu().permute(1, 2, 0).numpy()\n",
    "    img2_np = img2.squeeze(0).cpu().permute(1, 2, 0).numpy()\n",
    "\n",
    "    # Normalize the images for display\n",
    "    img1_np = (img1_np - img1_np.min()) / (img1_np.max() - img1_np.min())\n",
    "    img2_np = (img2_np - img2_np.min()) / (img2_np.max() - img2_np.min())\n",
    "\n",
    "    # Plot the images side by side\n",
    "    fig, axes = plt.subplots(2, 1, figsize=(6, 6))\n",
    "    axes[0].imshow(img1_np)\n",
    "    axes[0].axis('off')\n",
    "    axes[0].set_title(f\"Score: {(similarity_score.item()*100):.2f}%\\n {classes[label1]}\")\n",
    "\n",
    "    axes[1].imshow(img2_np)\n",
    "    axes[1].axis('off')\n",
    "    axes[1].set_title(f\"{classes[label2]}\")\n",
    "\n",
    "    plt.tight_layout()\n",
    "    plt.show()\n"
   ]
  },
  {
   "cell_type": "code",
   "execution_count": 24,
   "metadata": {},
   "outputs": [
    {
     "data": {
      "image/png": "[encoded data removed]",
      "text/plain": [
       "<Figure size 1000x800 with 2 Axes>"
      ]
     },
     "metadata": {},
     "output_type": "display_data"
    }
   ],
   "source": [
    "import torch\n",
    "import matplotlib.pyplot as plt\n",
    "import seaborn as sns\n",
    "from sklearn.metrics import confusion_matrix, ConfusionMatrixDisplay\n",
    "\n",
    "# Collect true labels and predictions\n",
    "all_labels = []\n",
    "all_predictions = []\n",
    "\n",
    "model.eval()  # Set the model to evaluation mode\n",
    "with torch.inference_mode():\n",
    "    for images, labels in test_loader:\n",
    "        images, labels = images.to(device), labels.to(device)\n",
    "        outputs = model(images)\n",
    "        _, predicted = torch.max(outputs, 1)  # Get the predicted class index\n",
    "        all_labels.extend(labels.cpu().numpy())\n",
    "        all_predictions.extend(predicted.cpu().numpy())\n",
    "\n",
    "# Compute the confusion matrix\n",
    "cm = confusion_matrix(all_labels, all_predictions)\n",
    "\n",
    "# Plot the confusion matrix\n",
    "plt.figure(figsize=(10, 8))\n",
    "sns.heatmap(cm, annot=True, fmt='d', cmap='Blues')\n",
    "plt.xlabel('Predicted Labels')\n",
    "plt.ylabel('True Labels')\n",
    "plt.title('Confusion Matrix')\n",
    "plt.show()\n"
   ]
  }
 ],
 "metadata": {
  "kernelspec": {
   "display_name": ".venv",
   "language": "python",
   "name": "python3"
  },
  "language_info": {
   "codemirror_mode": {
    "name": "ipython",
    "version": 3
   },
   "file_extension": ".py",
   "mimetype": "text/x-python",
   "name": "python",
   "nbconvert_exporter": "python",
   "pygments_lexer": "ipython3",
   "version": "3.12.7"
  }
 },
 "nbformat": 4,
 "nbformat_minor": 2
}
